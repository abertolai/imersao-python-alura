{
 "cells": [
  {
   "cell_type": "code",
   "execution_count": 7,
   "metadata": {
    "executionInfo": {
     "elapsed": 1028,
     "status": "ok",
     "timestamp": 1711718659673,
     "user": {
      "displayName": "Amanda Bertolai",
      "userId": "17200006000471902159"
     },
     "user_tz": 180
    },
    "id": "8lMz5AxqRz32"
   },
   "outputs": [],
   "source": [
    "import pandas as pd\n",
    "import plotly.express as px"
   ]
  },
  {
   "cell_type": "code",
   "execution_count": 18,
   "metadata": {
    "colab": {
     "base_uri": "https://localhost:8080/",
     "height": 643
    },
    "executionInfo": {
     "elapsed": 614,
     "status": "ok",
     "timestamp": 1711716183249,
     "user": {
      "displayName": "Amanda Bertolai",
      "userId": "17200006000471902159"
     },
     "user_tz": 180
    },
    "id": "aIYyhM_LTrMV",
    "outputId": "a4977abc-c229-430e-fc3e-f8f8e9e1c2af"
   },
   "outputs": [
    {
     "ename": "FileNotFoundError",
     "evalue": "[Errno 2] No such file or directory: 'Imersão Python - Tabela de ações.xlsx'",
     "output_type": "error",
     "traceback": [
      "\u001b[0;31m---------------------------------------------------------------------------\u001b[0m",
      "\u001b[0;31mFileNotFoundError\u001b[0m                         Traceback (most recent call last)",
      "Cell \u001b[0;32mIn[18], line 1\u001b[0m\n\u001b[0;32m----> 1\u001b[0m df_principal \u001b[38;5;241m=\u001b[39m pd\u001b[38;5;241m.\u001b[39mread_excel(\u001b[38;5;124m'\u001b[39m\u001b[38;5;124mImersão Python - Tabela de ações.xlsx\u001b[39m\u001b[38;5;124m'\u001b[39m, sheet_name\u001b[38;5;241m=\u001b[39m\u001b[38;5;124m'\u001b[39m\u001b[38;5;124mPrincipal\u001b[39m\u001b[38;5;124m'\u001b[39m)\n\u001b[1;32m      2\u001b[0m df_principal\u001b[38;5;241m.\u001b[39mhead(\u001b[38;5;241m10\u001b[39m)\n",
      "File \u001b[0;32m~/anaconda3/envs/bootcamp_datascience/lib/python3.11/site-packages/pandas/io/excel/_base.py:504\u001b[0m, in \u001b[0;36mread_excel\u001b[0;34m(io, sheet_name, header, names, index_col, usecols, dtype, engine, converters, true_values, false_values, skiprows, nrows, na_values, keep_default_na, na_filter, verbose, parse_dates, date_parser, date_format, thousands, decimal, comment, skipfooter, storage_options, dtype_backend, engine_kwargs)\u001b[0m\n\u001b[1;32m    502\u001b[0m \u001b[38;5;28;01mif\u001b[39;00m \u001b[38;5;129;01mnot\u001b[39;00m \u001b[38;5;28misinstance\u001b[39m(io, ExcelFile):\n\u001b[1;32m    503\u001b[0m     should_close \u001b[38;5;241m=\u001b[39m \u001b[38;5;28;01mTrue\u001b[39;00m\n\u001b[0;32m--> 504\u001b[0m     io \u001b[38;5;241m=\u001b[39m ExcelFile(\n\u001b[1;32m    505\u001b[0m         io,\n\u001b[1;32m    506\u001b[0m         storage_options\u001b[38;5;241m=\u001b[39mstorage_options,\n\u001b[1;32m    507\u001b[0m         engine\u001b[38;5;241m=\u001b[39mengine,\n\u001b[1;32m    508\u001b[0m         engine_kwargs\u001b[38;5;241m=\u001b[39mengine_kwargs,\n\u001b[1;32m    509\u001b[0m     )\n\u001b[1;32m    510\u001b[0m \u001b[38;5;28;01melif\u001b[39;00m engine \u001b[38;5;129;01mand\u001b[39;00m engine \u001b[38;5;241m!=\u001b[39m io\u001b[38;5;241m.\u001b[39mengine:\n\u001b[1;32m    511\u001b[0m     \u001b[38;5;28;01mraise\u001b[39;00m \u001b[38;5;167;01mValueError\u001b[39;00m(\n\u001b[1;32m    512\u001b[0m         \u001b[38;5;124m\"\u001b[39m\u001b[38;5;124mEngine should not be specified when passing \u001b[39m\u001b[38;5;124m\"\u001b[39m\n\u001b[1;32m    513\u001b[0m         \u001b[38;5;124m\"\u001b[39m\u001b[38;5;124man ExcelFile - ExcelFile already has the engine set\u001b[39m\u001b[38;5;124m\"\u001b[39m\n\u001b[1;32m    514\u001b[0m     )\n",
      "File \u001b[0;32m~/anaconda3/envs/bootcamp_datascience/lib/python3.11/site-packages/pandas/io/excel/_base.py:1563\u001b[0m, in \u001b[0;36mExcelFile.__init__\u001b[0;34m(self, path_or_buffer, engine, storage_options, engine_kwargs)\u001b[0m\n\u001b[1;32m   1561\u001b[0m     ext \u001b[38;5;241m=\u001b[39m \u001b[38;5;124m\"\u001b[39m\u001b[38;5;124mxls\u001b[39m\u001b[38;5;124m\"\u001b[39m\n\u001b[1;32m   1562\u001b[0m \u001b[38;5;28;01melse\u001b[39;00m:\n\u001b[0;32m-> 1563\u001b[0m     ext \u001b[38;5;241m=\u001b[39m inspect_excel_format(\n\u001b[1;32m   1564\u001b[0m         content_or_path\u001b[38;5;241m=\u001b[39mpath_or_buffer, storage_options\u001b[38;5;241m=\u001b[39mstorage_options\n\u001b[1;32m   1565\u001b[0m     )\n\u001b[1;32m   1566\u001b[0m     \u001b[38;5;28;01mif\u001b[39;00m ext \u001b[38;5;129;01mis\u001b[39;00m \u001b[38;5;28;01mNone\u001b[39;00m:\n\u001b[1;32m   1567\u001b[0m         \u001b[38;5;28;01mraise\u001b[39;00m \u001b[38;5;167;01mValueError\u001b[39;00m(\n\u001b[1;32m   1568\u001b[0m             \u001b[38;5;124m\"\u001b[39m\u001b[38;5;124mExcel file format cannot be determined, you must specify \u001b[39m\u001b[38;5;124m\"\u001b[39m\n\u001b[1;32m   1569\u001b[0m             \u001b[38;5;124m\"\u001b[39m\u001b[38;5;124man engine manually.\u001b[39m\u001b[38;5;124m\"\u001b[39m\n\u001b[1;32m   1570\u001b[0m         )\n",
      "File \u001b[0;32m~/anaconda3/envs/bootcamp_datascience/lib/python3.11/site-packages/pandas/io/excel/_base.py:1419\u001b[0m, in \u001b[0;36minspect_excel_format\u001b[0;34m(content_or_path, storage_options)\u001b[0m\n\u001b[1;32m   1416\u001b[0m \u001b[38;5;28;01mif\u001b[39;00m \u001b[38;5;28misinstance\u001b[39m(content_or_path, \u001b[38;5;28mbytes\u001b[39m):\n\u001b[1;32m   1417\u001b[0m     content_or_path \u001b[38;5;241m=\u001b[39m BytesIO(content_or_path)\n\u001b[0;32m-> 1419\u001b[0m \u001b[38;5;28;01mwith\u001b[39;00m get_handle(\n\u001b[1;32m   1420\u001b[0m     content_or_path, \u001b[38;5;124m\"\u001b[39m\u001b[38;5;124mrb\u001b[39m\u001b[38;5;124m\"\u001b[39m, storage_options\u001b[38;5;241m=\u001b[39mstorage_options, is_text\u001b[38;5;241m=\u001b[39m\u001b[38;5;28;01mFalse\u001b[39;00m\n\u001b[1;32m   1421\u001b[0m ) \u001b[38;5;28;01mas\u001b[39;00m handle:\n\u001b[1;32m   1422\u001b[0m     stream \u001b[38;5;241m=\u001b[39m handle\u001b[38;5;241m.\u001b[39mhandle\n\u001b[1;32m   1423\u001b[0m     stream\u001b[38;5;241m.\u001b[39mseek(\u001b[38;5;241m0\u001b[39m)\n",
      "File \u001b[0;32m~/anaconda3/envs/bootcamp_datascience/lib/python3.11/site-packages/pandas/io/common.py:872\u001b[0m, in \u001b[0;36mget_handle\u001b[0;34m(path_or_buf, mode, encoding, compression, memory_map, is_text, errors, storage_options)\u001b[0m\n\u001b[1;32m    863\u001b[0m         handle \u001b[38;5;241m=\u001b[39m \u001b[38;5;28mopen\u001b[39m(\n\u001b[1;32m    864\u001b[0m             handle,\n\u001b[1;32m    865\u001b[0m             ioargs\u001b[38;5;241m.\u001b[39mmode,\n\u001b[0;32m   (...)\u001b[0m\n\u001b[1;32m    868\u001b[0m             newline\u001b[38;5;241m=\u001b[39m\u001b[38;5;124m\"\u001b[39m\u001b[38;5;124m\"\u001b[39m,\n\u001b[1;32m    869\u001b[0m         )\n\u001b[1;32m    870\u001b[0m     \u001b[38;5;28;01melse\u001b[39;00m:\n\u001b[1;32m    871\u001b[0m         \u001b[38;5;66;03m# Binary mode\u001b[39;00m\n\u001b[0;32m--> 872\u001b[0m         handle \u001b[38;5;241m=\u001b[39m \u001b[38;5;28mopen\u001b[39m(handle, ioargs\u001b[38;5;241m.\u001b[39mmode)\n\u001b[1;32m    873\u001b[0m     handles\u001b[38;5;241m.\u001b[39mappend(handle)\n\u001b[1;32m    875\u001b[0m \u001b[38;5;66;03m# Convert BytesIO or file objects passed with an encoding\u001b[39;00m\n",
      "\u001b[0;31mFileNotFoundError\u001b[0m: [Errno 2] No such file or directory: 'Imersão Python - Tabela de ações.xlsx'"
     ]
    }
   ],
   "source": [
    "df_principal = pd.read_excel('/content/Imersão Python - Tabela de ações.xlsx', sheet_name='Principal')\n",
    "df_principal.head(10)"
   ]
  },
  {
   "cell_type": "code",
   "execution_count": null,
   "metadata": {
    "colab": {
     "base_uri": "https://localhost:8080/",
     "height": 363
    },
    "executionInfo": {
     "elapsed": 622,
     "status": "ok",
     "timestamp": 1711716183868,
     "user": {
      "displayName": "Amanda Bertolai",
      "userId": "17200006000471902159"
     },
     "user_tz": 180
    },
    "id": "K3UVCHnVVJ_-",
    "outputId": "47875230-4dc8-4c2e-b7ab-bb2ef5861c59"
   },
   "outputs": [],
   "source": [
    "df_total_de_acoes = pd.read_excel('/content/Imersão Python - Tabela de ações.xlsx', sheet_name='Total_de_acoes')\n",
    "df_total_de_acoes.head(10)"
   ]
  },
  {
   "cell_type": "code",
   "execution_count": null,
   "metadata": {
    "colab": {
     "base_uri": "https://localhost:8080/",
     "height": 363
    },
    "executionInfo": {
     "elapsed": 410,
     "status": "ok",
     "timestamp": 1711716184276,
     "user": {
      "displayName": "Amanda Bertolai",
      "userId": "17200006000471902159"
     },
     "user_tz": 180
    },
    "id": "tLx9j8nEVm7c",
    "outputId": "66418ba7-ba2a-454f-eb09-51278e3b6bb5"
   },
   "outputs": [],
   "source": [
    "df_ticker = pd.read_excel('/content/Imersão Python - Tabela de ações.xlsx', sheet_name='Ticker')\n",
    "df_ticker.head(10)"
   ]
  },
  {
   "cell_type": "code",
   "execution_count": null,
   "metadata": {
    "colab": {
     "base_uri": "https://localhost:8080/",
     "height": 363
    },
    "executionInfo": {
     "elapsed": 396,
     "status": "ok",
     "timestamp": 1711716184667,
     "user": {
      "displayName": "Amanda Bertolai",
      "userId": "17200006000471902159"
     },
     "user_tz": 180
    },
    "id": "ztayKafIWRT7",
    "outputId": "b52c077f-9087-4f21-ff06-c3a0b5ce20bc"
   },
   "outputs": [],
   "source": [
    "df_chatgpt = pd.read_excel('/content/Imersão Python - Tabela de ações.xlsx', sheet_name='ChatGPT')\n",
    "df_chatgpt.head(10)"
   ]
  },
  {
   "cell_type": "code",
   "execution_count": null,
   "metadata": {
    "colab": {
     "base_uri": "https://localhost:8080/",
     "height": 423
    },
    "executionInfo": {
     "elapsed": 6,
     "status": "ok",
     "timestamp": 1711716184668,
     "user": {
      "displayName": "Amanda Bertolai",
      "userId": "17200006000471902159"
     },
     "user_tz": 180
    },
    "id": "Oi7ovk6JJklN",
    "outputId": "1c917287-9695-42b9-ef67-b88100ff7b30"
   },
   "outputs": [],
   "source": [
    "df_principal = df_principal[['Ativo','Data','Último (R$)','Var. Dia (%)']].copy()\n",
    "df_principal"
   ]
  },
  {
   "cell_type": "code",
   "execution_count": null,
   "metadata": {
    "colab": {
     "base_uri": "https://localhost:8080/",
     "height": 423
    },
    "executionInfo": {
     "elapsed": 270,
     "status": "ok",
     "timestamp": 1711716184933,
     "user": {
      "displayName": "Amanda Bertolai",
      "userId": "17200006000471902159"
     },
     "user_tz": 180
    },
    "id": "Df-57qzrKTqO",
    "outputId": "b0dd309b-08bf-454a-bf17-0a14774023e3"
   },
   "outputs": [],
   "source": [
    "df_principal = df_principal.rename(columns = {'Último (R$)':'Valor_final', 'Var. Dia (%)':'Var_dia_pct'}).copy()\n",
    "df_principal"
   ]
  },
  {
   "cell_type": "code",
   "execution_count": null,
   "metadata": {
    "colab": {
     "base_uri": "https://localhost:8080/",
     "height": 423
    },
    "executionInfo": {
     "elapsed": 12,
     "status": "ok",
     "timestamp": 1711716184933,
     "user": {
      "displayName": "Amanda Bertolai",
      "userId": "17200006000471902159"
     },
     "user_tz": 180
    },
    "id": "EAeOrIVNLHlT",
    "outputId": "3d29ad06-0bad-4f9a-eeff-0fc15ae10531"
   },
   "outputs": [],
   "source": [
    "df_principal['Var_pct'] = df_principal['Var_dia_pct'] / 100\n",
    "df_principal"
   ]
  },
  {
   "cell_type": "code",
   "execution_count": null,
   "metadata": {
    "colab": {
     "base_uri": "https://localhost:8080/",
     "height": 423
    },
    "executionInfo": {
     "elapsed": 12,
     "status": "ok",
     "timestamp": 1711716184933,
     "user": {
      "displayName": "Amanda Bertolai",
      "userId": "17200006000471902159"
     },
     "user_tz": 180
    },
    "id": "SbLDoRNLLr9l",
    "outputId": "790cf2fd-3317-40a8-a238-d335920f0910"
   },
   "outputs": [],
   "source": [
    "df_principal['Var_inicial'] = df_principal['Valor_final'] / (df_principal['Var_pct'] + 1)\n",
    "df_principal"
   ]
  },
  {
   "cell_type": "code",
   "execution_count": null,
   "metadata": {
    "colab": {
     "base_uri": "https://localhost:8080/",
     "height": 423
    },
    "executionInfo": {
     "elapsed": 11,
     "status": "ok",
     "timestamp": 1711716184933,
     "user": {
      "displayName": "Amanda Bertolai",
      "userId": "17200006000471902159"
     },
     "user_tz": 180
    },
    "id": "uNb-eshzMJ9c",
    "outputId": "0a047853-9068-4ad5-a43c-c7f5bdb91ba6"
   },
   "outputs": [],
   "source": [
    "#Mesma função que o VLOOKUP do excel\n",
    "df_principal = df_principal.merge(df_total_de_acoes, left_on='Ativo', right_on='Código', how='left')\n",
    "df_principal"
   ]
  },
  {
   "cell_type": "code",
   "execution_count": null,
   "metadata": {
    "colab": {
     "base_uri": "https://localhost:8080/",
     "height": 423
    },
    "executionInfo": {
     "elapsed": 10,
     "status": "ok",
     "timestamp": 1711716184933,
     "user": {
      "displayName": "Amanda Bertolai",
      "userId": "17200006000471902159"
     },
     "user_tz": 180
    },
    "id": "BNoBJ5dRNgPc",
    "outputId": "e2896198-33e1-49a0-d4f5-b4f80c0c4d05"
   },
   "outputs": [],
   "source": [
    "df_principal = df_principal.drop(columns=['Código'])\n",
    "df_principal"
   ]
  },
  {
   "cell_type": "code",
   "execution_count": null,
   "metadata": {
    "colab": {
     "base_uri": "https://localhost:8080/",
     "height": 423
    },
    "executionInfo": {
     "elapsed": 10,
     "status": "ok",
     "timestamp": 1711716184933,
     "user": {
      "displayName": "Amanda Bertolai",
      "userId": "17200006000471902159"
     },
     "user_tz": 180
    },
    "id": "tiBy2Ie3Ntdm",
    "outputId": "b45fca5d-73e3-482d-923d-affeac2b79e8"
   },
   "outputs": [],
   "source": [
    "df_principal['Variacao_rs'] = (df_principal['Valor_final'] - df_principal['Var_inicial']) * df_principal['Qtde. Teórica']\n",
    "df_principal"
   ]
  },
  {
   "cell_type": "code",
   "execution_count": null,
   "metadata": {
    "colab": {
     "base_uri": "https://localhost:8080/",
     "height": 423
    },
    "executionInfo": {
     "elapsed": 247,
     "status": "ok",
     "timestamp": 1711716194921,
     "user": {
      "displayName": "Amanda Bertolai",
      "userId": "17200006000471902159"
     },
     "user_tz": 180
    },
    "id": "HLSG3aAwO0Wf",
    "outputId": "f0cd6c56-5bfa-479f-a539-a1bfb07827db"
   },
   "outputs": [],
   "source": [
    "pd.options.display.float_format = '{:.2f}'.format\n",
    "df_principal"
   ]
  },
  {
   "cell_type": "code",
   "execution_count": null,
   "metadata": {
    "colab": {
     "base_uri": "https://localhost:8080/",
     "height": 423
    },
    "executionInfo": {
     "elapsed": 246,
     "status": "ok",
     "timestamp": 1711716263650,
     "user": {
      "displayName": "Amanda Bertolai",
      "userId": "17200006000471902159"
     },
     "user_tz": 180
    },
    "id": "2pzi4J4EPLSW",
    "outputId": "0b318899-bddc-4730-d3d6-475e27bf1f91"
   },
   "outputs": [],
   "source": [
    "df_principal['Qtde. Teórica'] = df_principal['Qtde. Teórica'].astype(int)\n",
    "df_principal"
   ]
  },
  {
   "cell_type": "code",
   "execution_count": null,
   "metadata": {
    "colab": {
     "base_uri": "https://localhost:8080/",
     "height": 423
    },
    "executionInfo": {
     "elapsed": 258,
     "status": "ok",
     "timestamp": 1711716351212,
     "user": {
      "displayName": "Amanda Bertolai",
      "userId": "17200006000471902159"
     },
     "user_tz": 180
    },
    "id": "eGQ8gtHQPfuX",
    "outputId": "c9b14dc8-1dc1-4c0a-d278-71bc4eb9ed18"
   },
   "outputs": [],
   "source": [
    "df_principal = df_principal.rename(columns = {'Qtde. Teórica':'Qtd_teorica'}).copy()\n",
    "df_principal"
   ]
  },
  {
   "cell_type": "code",
   "execution_count": null,
   "metadata": {
    "colab": {
     "base_uri": "https://localhost:8080/",
     "height": 423
    },
    "executionInfo": {
     "elapsed": 250,
     "status": "ok",
     "timestamp": 1711717050099,
     "user": {
      "displayName": "Amanda Bertolai",
      "userId": "17200006000471902159"
     },
     "user_tz": 180
    },
    "id": "y9CqHyyXRidf",
    "outputId": "812bb864-c807-4f03-f637-5a6a9a4af363"
   },
   "outputs": [],
   "source": [
    "df_principal['Resultado'] = df_principal['Variacao_rs'].apply(lambda x: 'Subiu' if x > 0 else ('Desceu' if x < 0 else 'Estável'))\n",
    "df_principal"
   ]
  },
  {
   "cell_type": "code",
   "execution_count": null,
   "metadata": {
    "colab": {
     "base_uri": "https://localhost:8080/",
     "height": 597
    },
    "executionInfo": {
     "elapsed": 259,
     "status": "ok",
     "timestamp": 1711717344657,
     "user": {
      "displayName": "Amanda Bertolai",
      "userId": "17200006000471902159"
     },
     "user_tz": 180
    },
    "id": "CFk1QGR1TIXO",
    "outputId": "4e34d552-871f-455d-85f3-d4f98f49b811"
   },
   "outputs": [],
   "source": [
    "#Mesma função que o VLOOKUP do excel\n",
    "df_principal = df_principal.merge(df_ticker, left_on='Ativo', right_on='Ticker', how='left')\n",
    "df_principal = df_principal.drop(columns=['Ticker'])\n",
    "df_principal"
   ]
  },
  {
   "cell_type": "code",
   "execution_count": null,
   "metadata": {
    "colab": {
     "base_uri": "https://localhost:8080/",
     "height": 686
    },
    "executionInfo": {
     "elapsed": 241,
     "status": "ok",
     "timestamp": 1711717465695,
     "user": {
      "displayName": "Amanda Bertolai",
      "userId": "17200006000471902159"
     },
     "user_tz": 180
    },
    "id": "wZZrYosUTlUD",
    "outputId": "730b8a85-9ae7-42a4-8b8b-e0aab3a5c29a"
   },
   "outputs": [],
   "source": [
    "#Mesma função que o VLOOKUP do excel\n",
    "df_principal = df_principal.merge(df_chatgpt, left_on='Nome', right_on='Nome da Empresa', how='left')\n",
    "df_principal = df_principal.drop(columns=['Nome da Empresa'])\n",
    "df_principal"
   ]
  },
  {
   "cell_type": "code",
   "execution_count": null,
   "metadata": {
    "colab": {
     "base_uri": "https://localhost:8080/",
     "height": 686
    },
    "executionInfo": {
     "elapsed": 260,
     "status": "ok",
     "timestamp": 1711717672248,
     "user": {
      "displayName": "Amanda Bertolai",
      "userId": "17200006000471902159"
     },
     "user_tz": 180
    },
    "id": "zCTQdUzlUUyb",
    "outputId": "f996e7ee-0020-4621-96cf-6806184336fc"
   },
   "outputs": [],
   "source": [
    "df_principal['Cat_idade'] = df_principal['Idade em Anos'].apply(lambda x: 'Mais de 100' if x > 100 else ('Menos de 50' if x < 50 else 'Entre 50 e 100'))\n",
    "df_principal"
   ]
  },
  {
   "cell_type": "code",
   "execution_count": null,
   "metadata": {
    "colab": {
     "base_uri": "https://localhost:8080/"
    },
    "executionInfo": {
     "elapsed": 272,
     "status": "ok",
     "timestamp": 1711718250236,
     "user": {
      "displayName": "Amanda Bertolai",
      "userId": "17200006000471902159"
     },
     "user_tz": 180
    },
    "id": "lhvNHSY8VNxA",
    "outputId": "48d7f0e0-1f5b-41f6-b45b-5a8dbe09275b"
   },
   "outputs": [],
   "source": [
    "#Calculando o maior valor\n",
    "maior = df_principal['Variacao_rs'].max()\n",
    "\n",
    "#Calculando o menor valor\n",
    "menor = df_principal['Variacao_rs'].min()\n",
    "\n",
    "#Calculando a média\n",
    "media = df_principal['Variacao_rs'].mean()\n",
    "\n",
    "#Calculando a média de quem subiu\n",
    "media_subiu = df_principal[df_principal['Resultado'] == 'Subiu']['Variacao_rs'].mean()\n",
    "\n",
    "#Calculando a média de quem desceu\n",
    "media_desceu = df_principal[df_principal['Resultado'] == 'Desceu']['Variacao_rs'].mean()\n",
    "\n",
    "#Imprimindo os resultados\n",
    "print(f'Maior\\tR$ {maior:,.2f}')\n",
    "print(f'Menor\\tR$ {menor:,.2f}')\n",
    "print(f'Média\\tR$ {media:,.2f}')\n",
    "print(f'Média de quem subiu\\tR$ {media_subiu:,.2f}')\n",
    "print(f'Média de quem desceu\\tR$ {media_desceu:,.2f}')"
   ]
  },
  {
   "cell_type": "code",
   "execution_count": null,
   "metadata": {
    "colab": {
     "base_uri": "https://localhost:8080/",
     "height": 1000
    },
    "executionInfo": {
     "elapsed": 282,
     "status": "ok",
     "timestamp": 1711718378655,
     "user": {
      "displayName": "Amanda Bertolai",
      "userId": "17200006000471902159"
     },
     "user_tz": 180
    },
    "id": "DWLjCUTeXMaF",
    "outputId": "c879c61f-0fda-48f4-f678-5fed7c9d6dae"
   },
   "outputs": [],
   "source": [
    "df_principal_subiu = df_principal[df_principal['Resultado'] == 'Subiu']\n",
    "df_principal_subiu"
   ]
  },
  {
   "cell_type": "code",
   "execution_count": null,
   "metadata": {
    "colab": {
     "base_uri": "https://localhost:8080/",
     "height": 582
    },
    "executionInfo": {
     "elapsed": 241,
     "status": "ok",
     "timestamp": 1711718521937,
     "user": {
      "displayName": "Amanda Bertolai",
      "userId": "17200006000471902159"
     },
     "user_tz": 180
    },
    "id": "c_BSieatXgte",
    "outputId": "4adf1d83-c588-462b-f66b-d95699ea733c"
   },
   "outputs": [],
   "source": [
    "#colocando o reset_index, ele vai continuar como dataframe, se não colocar, ele cria o objeto como vetor\n",
    "df_analise_segmento = df_principal_subiu.groupby('Segmento')['Variacao_rs'].sum().reset_index()\n",
    "df_analise_segmento"
   ]
  },
  {
   "cell_type": "code",
   "execution_count": null,
   "metadata": {
    "colab": {
     "base_uri": "https://localhost:8080/",
     "height": 143
    },
    "executionInfo": {
     "elapsed": 276,
     "status": "ok",
     "timestamp": 1711718586690,
     "user": {
      "displayName": "Amanda Bertolai",
      "userId": "17200006000471902159"
     },
     "user_tz": 180
    },
    "id": "s4TEfYFHYEow",
    "outputId": "bd2d4ff7-c11b-49ca-8f1f-0848c148fb34"
   },
   "outputs": [],
   "source": [
    "#colocando o reset_index, ele vai continuar como dataframe, se não colocar, ele cria o objeto como vetor\n",
    "df_analise_saldo = df_principal.groupby('Resultado')['Variacao_rs'].sum().reset_index()\n",
    "df_analise_saldo"
   ]
  },
  {
   "cell_type": "markdown",
   "metadata": {
    "id": "a6LC3QimYT2X"
   },
   "source": [
    "# Gráfico"
   ]
  },
  {
   "cell_type": "code",
   "execution_count": null,
   "metadata": {
    "colab": {
     "base_uri": "https://localhost:8080/",
     "height": 542
    },
    "executionInfo": {
     "elapsed": 375,
     "status": "ok",
     "timestamp": 1711719086744,
     "user": {
      "displayName": "Amanda Bertolai",
      "userId": "17200006000471902159"
     },
     "user_tz": 180
    },
    "id": "aqp3KoNfYS7S",
    "outputId": "30949db1-6b9d-4821-e182-4edb34a66b85"
   },
   "outputs": [],
   "source": [
    "fig_analise_saldo = px.bar(df_analise_saldo, x='Resultado', y='Variacao_rs', text='Variacao_rs', title='Variação Reais por Resultado')\n",
    "fig_analise_saldo.show()"
   ]
  },
  {
   "cell_type": "code",
   "execution_count": null,
   "metadata": {
    "colab": {
     "base_uri": "https://localhost:8080/",
     "height": 542
    },
    "executionInfo": {
     "elapsed": 253,
     "status": "ok",
     "timestamp": 1711719153509,
     "user": {
      "displayName": "Amanda Bertolai",
      "userId": "17200006000471902159"
     },
     "user_tz": 180
    },
    "id": "cBOVWeo6Znq5",
    "outputId": "f869db8c-31b6-4f36-918a-0790934bb43c"
   },
   "outputs": [],
   "source": [
    "fig_analise_segmento = px.pie(df_analise_segmento, names='Segmento', values='Variacao_rs', title='Variação Reais por Segmento')\n",
    "fig_analise_segmento.show()"
   ]
  },
  {
   "cell_type": "code",
   "execution_count": null,
   "metadata": {
    "colab": {
     "base_uri": "https://localhost:8080/",
     "height": 542
    },
    "executionInfo": {
     "elapsed": 276,
     "status": "ok",
     "timestamp": 1711719185336,
     "user": {
      "displayName": "Amanda Bertolai",
      "userId": "17200006000471902159"
     },
     "user_tz": 180
    },
    "id": "b-8cWZ-8aZgW",
    "outputId": "9b30b920-f6b0-415d-e331-ae8d1993c3ba"
   },
   "outputs": [],
   "source": [
    "df_analise_cat_idade = df_principal.groupby('Cat_idade')['Variacao_rs'].sum().reset_index()\n",
    "df_analise_cat_idade\n",
    "\n",
    "fig_analise_cat_idade = px.bar(df_analise_cat_idade, x='Cat_idade', y='Variacao_rs', text='Variacao_rs', title='Variação Reais por Categoria de Idade')\n",
    "fig_analise_cat_idade.show()"
   ]
  }
 ],
 "metadata": {
  "colab": {
   "authorship_tag": "ABX9TyMMcV7N4ZWeb/5PshV14OVU",
   "provenance": []
  },
  "kernelspec": {
   "display_name": "Python 3 (ipykernel)",
   "language": "python",
   "name": "python3"
  },
  "language_info": {
   "codemirror_mode": {
    "name": "ipython",
    "version": 3
   },
   "file_extension": ".py",
   "mimetype": "text/x-python",
   "name": "python",
   "nbconvert_exporter": "python",
   "pygments_lexer": "ipython3",
   "version": "3.11.7"
  }
 },
 "nbformat": 4,
 "nbformat_minor": 4
}
